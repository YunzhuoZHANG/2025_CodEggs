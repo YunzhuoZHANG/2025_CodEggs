{
 "cells": [
  {
   "cell_type": "code",
   "execution_count": 1,
   "metadata": {},
   "outputs": [],
   "source": [
    "import numpy as np\n",
    "import gc\n",
    "import pandas as pd\n",
    "import xarray as xr\n"
   ]
  },
  {
   "cell_type": "code",
   "execution_count": 2,
   "metadata": {},
   "outputs": [
    {
     "name": "stdout",
     "output_type": "stream",
     "text": [
      "Atlantic 31 shape: (359424000, 11)\n",
      "Atlantic 42 shape: (359424000, 11)\n"
     ]
    }
   ],
   "source": [
    "\n",
    "# Load the parquet files\n",
    "atlantic_31_pred = pd.read_parquet('atlantic_31_pred.parquet')\n",
    "atlantic_42_pred = pd.read_parquet('atlantic_42_pred.parquet')\n",
    "\n",
    "# Print basic information about the loaded data\n",
    "print(\"Atlantic 31 shape:\", atlantic_31_pred.shape)\n",
    "print(\"Atlantic 42 shape:\", atlantic_42_pred.shape)\n"
   ]
  },
  {
   "cell_type": "code",
   "execution_count": 3,
   "metadata": {},
   "outputs": [],
   "source": [
    "# import h5py\n",
    "# import numpy as np\n",
    "# import pandas as pd\n",
    "\n",
    "# def read_mat_v73(mat_path: str) -> dict:\n",
    "#     \"\"\"读取MATLAB v7.3文件 (适配NumPy 1.20+版本)\"\"\"\n",
    "#     data = {}\n",
    "#     with h5py.File(mat_path, 'r') as f:\n",
    "#         def visit_handler(name, obj):\n",
    "#             if isinstance(obj, h5py.Dataset):\n",
    "#                 # 处理对象类型数据集\n",
    "#                 arr = np.array(obj)\n",
    "#                 # 类型检查改用安全方式\n",
    "#                 if arr.dtype == np.dtype('O') or arr.dtype.type is np.object_:\n",
    "#                     arr = arr[0]  # 解包MATLAB容器\n",
    "#                 data[name.split('/')[-1]] = arr\n",
    "#         f.visititems(visit_handler)\n",
    "#     return data\n",
    "\n",
    "# data= read_mat_v73(\"atlantic_42.mat\")\n"
   ]
  },
  {
   "cell_type": "code",
   "execution_count": 4,
   "metadata": {},
   "outputs": [],
   "source": [
    "# original_shape = (20, 104, 120, 1440)\n",
    "# dura_mhw = atlantic_42_pred[['dura_mhw']]\n",
    "# # dura_mhw_trans = (\n",
    "# #     dura_mhw\n",
    "# #     .reshape(original_shape[::-1], order=\"F\")  # 反转形状为 (D, C, B, A)\n",
    "# #     .transpose(3, 2, 1, 0)                     # 转置轴为 (A, B, C, D), 此时存储顺序变为C\n",
    "# #     .copy(order='C')                           # 确保内存连续性（可选）\n",
    "# # )\n",
    "# dura_mhw_trans=dura_mhw.to_numpy().reshape(original_shape, order='F')\n",
    "# dura_mhw_trans"
   ]
  },
  {
   "cell_type": "code",
   "execution_count": 5,
   "metadata": {},
   "outputs": [],
   "source": [
    "# atlantic_31_pred"
   ]
  },
  {
   "cell_type": "code",
   "execution_count": 6,
   "metadata": {},
   "outputs": [],
   "source": [
    "# Split the data into the different prediction types\n",
    "atlantic_31_pred_mhw_flat = atlantic_31_pred[['pred_mhw']]\n",
    "atlantic_31_pred_clm_flat = atlantic_31_pred[['pred_clim']]\n",
    "atlantic_31_pred_nan_flat = atlantic_31_pred[['pred_no_mhw']]\n",
    "atlantic_42_pred_mhw_flat = atlantic_42_pred[['pred_mhw']]\n",
    "atlantic_42_pred_clm_flat = atlantic_42_pred[['pred_clim']]\n",
    "atlantic_42_pred_nan_flat = atlantic_42_pred[['pred_no_mhw']]\n",
    "# del atlantic_31_pred, atlantic_42_pred\n",
    "# gc.collect()"
   ]
  },
  {
   "cell_type": "code",
   "execution_count": 7,
   "metadata": {},
   "outputs": [],
   "source": [
    "# to_numpy().reshape the data into the original shape\n",
    "original_shape=(20, 104, 120, 1440)\n",
    "atlantic_31_pred_mhw_np=atlantic_31_pred_mhw_flat.to_numpy().reshape(original_shape, order='F')\n",
    "atlantic_31_pred_clm_np=atlantic_31_pred_clm_flat.to_numpy().reshape(original_shape, order='F')\n",
    "atlantic_31_pred_nan_np=atlantic_31_pred_nan_flat.to_numpy().reshape(original_shape, order='F')\n",
    "atlantic_42_pred_mhw_np=atlantic_42_pred_mhw_flat.to_numpy().reshape(original_shape, order='F')\n",
    "atlantic_42_pred_clm_np=atlantic_42_pred_clm_flat.to_numpy().reshape(original_shape, order='F')\n",
    "atlantic_42_pred_nan_np=atlantic_42_pred_nan_flat.to_numpy().reshape(original_shape, order='F')\n",
    "# atlantic_31_pred_mhw_np=\n",
    "# del atlantic_31_pred_mhw_flat, atlantic_31_pred_clm_flat, atlantic_31_pred_nan_flat, atlantic_42_pred_mhw_flat, atlantic_42_pred_clm_flat, atlantic_42_pred_nan_flat\n",
    "# gc.collect()\n",
    "\n"
   ]
  },
  {
   "cell_type": "code",
   "execution_count": 8,
   "metadata": {},
   "outputs": [],
   "source": [
    "# Create xarray DataArrays\n",
    "Latitudes = np.linspace(60, 90, 120)\n",
    "Longitudes = np.linspace(-180, 180, 1440)\n",
    "Years = np.linspace(1982, 2085, 104)\n",
    "times = np.linspace(0, 19, 20)\n",
    "\n",
    "atlantic_31_pred_mhw_xr = xr.DataArray(atlantic_31_pred_mhw_np,dims=[\"time\",\"Years\",\"Latitude\", \"Longitude\"],coords={\"time\": times, \"Years\": Years, \"Latitude\": Latitudes, \"Longitude\": Longitudes}, name=\"Mortality\")\n",
    "atlantic_31_pred_clm_xr = xr.DataArray(atlantic_31_pred_clm_np,dims=[\"time\",\"Years\",\"Latitude\", \"Longitude\"],coords={\"time\": times, \"Years\": Years, \"Latitude\": Latitudes, \"Longitude\": Longitudes}, name=\"Mortality\")\n",
    "atlantic_31_pred_nan_xr = xr.DataArray(atlantic_31_pred_nan_np,dims=[\"time\",\"Years\",\"Latitude\", \"Longitude\"],coords={\"time\": times, \"Years\": Years, \"Latitude\": Latitudes, \"Longitude\": Longitudes}, name=\"Mortality\")\n",
    "atlantic_42_pred_mhw_xr = xr.DataArray(atlantic_42_pred_mhw_np,dims=[\"time\",\"Years\",\"Latitude\", \"Longitude\"],coords={\"time\": times, \"Years\": Years, \"Latitude\": Latitudes, \"Longitude\": Longitudes}, name=\"Mortality\")\n",
    "atlantic_42_pred_clm_xr = xr.DataArray(atlantic_42_pred_clm_np,dims=[\"time\",\"Years\",\"Latitude\", \"Longitude\"],coords={\"time\": times, \"Years\": Years, \"Latitude\": Latitudes, \"Longitude\": Longitudes}, name=\"Mortality\")\n",
    "atlantic_42_pred_nan_xr = xr.DataArray(atlantic_42_pred_nan_np,dims=[\"time\",\"Years\",\"Latitude\", \"Longitude\"],coords={\"time\": times, \"Years\": Years, \"Latitude\": Latitudes, \"Longitude\": Longitudes}, name=\"Mortality\")\n",
    "# del atlantic_31_pred_mhw_np, atlantic_31_pred_clm_np, atlantic_31_pred_nan_np, atlantic_42_pred_mhw_np, atlantic_42_pred_clm_np, atlantic_42_pred_nan_np\n",
    "# gc.collect()"
   ]
  },
  {
   "cell_type": "code",
   "execution_count": 9,
   "metadata": {},
   "outputs": [
    {
     "name": "stdout",
     "output_type": "stream",
     "text": [
      "<xarray.Dataset> Size: 9GB\n",
      "Dimensions:    (time: 20, Years: 104, Latitude: 120, Longitude: 1440)\n",
      "Coordinates:\n",
      "  * time       (time) float64 160B 0.0 1.0 2.0 3.0 4.0 ... 16.0 17.0 18.0 19.0\n",
      "  * Years      (Years) float64 832B 1.982e+03 1.983e+03 ... 2.084e+03 2.085e+03\n",
      "  * Latitude   (Latitude) float64 960B 60.0 60.25 60.5 60.76 ... 89.5 89.75 90.0\n",
      "  * Longitude  (Longitude) float64 12kB -180.0 -179.7 -179.5 ... 179.7 180.0\n",
      "Data variables:\n",
      "    mhw        (time, Years, Latitude, Longitude) float64 3GB nan nan ... nan\n",
      "    clm        (time, Years, Latitude, Longitude) float64 3GB nan nan ... nan\n",
      "    nan        (time, Years, Latitude, Longitude) float64 3GB nan nan ... nan\n"
     ]
    }
   ],
   "source": [
    "# Create xarray Datasets and save them to netcdf\n",
    "atlantic_31_pred=xr.Dataset({\"mhw\":atlantic_31_pred_mhw_xr, \"clm\":atlantic_31_pred_clm_xr, \"nan\":atlantic_31_pred_nan_xr})\n",
    "atlantic_42_pred=xr.Dataset({\"mhw\":atlantic_42_pred_mhw_xr, \"clm\":atlantic_42_pred_clm_xr, \"nan\":atlantic_42_pred_nan_xr})\n",
    "# del atlantic_31_pred_mhw_xr, atlantic_31_pred_clm_xr, atlantic_31_pred_nan_xr, atlantic_42_pred_mhw_xr, atlantic_42_pred_clm_xr, atlantic_42_pred_nan_xr\n",
    "# gc.collect()\n",
    "atlantic_31_pred.to_netcdf(\"atlantic_31_pred.nc\")\n",
    "atlantic_42_pred.to_netcdf(\"atlantic_42_pred.nc\")\n",
    "print(atlantic_31_pred)\n",
    "\n",
    "# all_vars = list(globals().keys())\n",
    "# for var in all_vars:\n",
    "#     if not var.startswith(\"__\"):  \n",
    "#         del globals()[var]\n"
   ]
  },
  {
   "cell_type": "code",
   "execution_count": 10,
   "metadata": {},
   "outputs": [
    {
     "name": "stdout",
     "output_type": "stream",
     "text": [
      "Polar 31 shape: (355968000, 11)\n",
      "Polar 42 shape: (355968000, 11)\n",
      "<xarray.Dataset> Size: 9GB\n",
      "Dimensions:    (time: 20, Years: 103, Latitude: 120, Longitude: 1440)\n",
      "Coordinates:\n",
      "  * time       (time) float64 160B 0.0 1.0 2.0 3.0 4.0 ... 16.0 17.0 18.0 19.0\n",
      "  * Years      (Years) float64 824B 1.982e+03 1.983e+03 ... 2.083e+03 2.084e+03\n",
      "  * Latitude   (Latitude) float64 960B 60.0 60.25 60.5 60.76 ... 89.5 89.75 90.0\n",
      "  * Longitude  (Longitude) float64 12kB -180.0 -179.7 -179.5 ... 179.7 180.0\n",
      "Data variables:\n",
      "    mhw        (time, Years, Latitude, Longitude) float64 3GB nan nan ... nan\n",
      "    clm        (time, Years, Latitude, Longitude) float64 3GB nan nan ... nan\n",
      "    nan        (time, Years, Latitude, Longitude) float64 3GB nan nan ... nan\n"
     ]
    }
   ],
   "source": [
    "import numpy as np\n",
    "import gc\n",
    "import pandas as pd\n",
    "import xarray as xr\n",
    "\n",
    "# Load the parquet files\n",
    "polar_31_pred = pd.read_parquet('polar_31_pred.parquet')\n",
    "polar_42_pred = pd.read_parquet('polar_42_pred.parquet')\n",
    "\n",
    "# Print basic information about the loaded data\n",
    "print(\"Polar 31 shape:\", polar_31_pred.shape)\n",
    "print(\"Polar 42 shape:\", polar_42_pred.shape)\n",
    "\n",
    "# Split the data into the different prediction types\n",
    "polar_31_pred_mhw_flat = polar_31_pred[['pred_mhw']]\n",
    "polar_31_pred_clm_flat = polar_31_pred[['pred_clim']]\n",
    "polar_31_pred_nan_flat = polar_31_pred[['pred_no_mhw']]\n",
    "polar_42_pred_mhw_flat = polar_42_pred[['pred_mhw']]\n",
    "polar_42_pred_clm_flat = polar_42_pred[['pred_clim']]\n",
    "polar_42_pred_nan_flat = polar_42_pred[['pred_no_mhw']]\n",
    "del polar_31_pred, polar_42_pred\n",
    "gc.collect()\n",
    "\n",
    "# to_numpy().reshape the data into the original shape\n",
    "original_shape=(20, 103, 120, 1440)\n",
    "polar_31_pred_mhw_np=polar_31_pred_mhw_flat.to_numpy().reshape(original_shape, order='F')\n",
    "polar_31_pred_clm_np=polar_31_pred_clm_flat.to_numpy().reshape(original_shape, order='F')\n",
    "polar_31_pred_nan_np=polar_31_pred_nan_flat.to_numpy().reshape(original_shape, order='F')\n",
    "polar_42_pred_mhw_np=polar_42_pred_mhw_flat.to_numpy().reshape(original_shape, order='F')\n",
    "polar_42_pred_clm_np=polar_42_pred_clm_flat.to_numpy().reshape(original_shape, order='F')\n",
    "polar_42_pred_nan_np=polar_42_pred_nan_flat.to_numpy().reshape(original_shape, order='F')\n",
    "del polar_31_pred_mhw_flat, polar_31_pred_clm_flat, polar_31_pred_nan_flat, polar_42_pred_mhw_flat, polar_42_pred_clm_flat, polar_42_pred_nan_flat\n",
    "gc.collect()\n",
    "\n",
    "# Create xarray DataArrays\n",
    "Latitudes = np.linspace(60, 90, 120)\n",
    "Longitudes = np.linspace(-180, 180, 1440)\n",
    "Years = np.linspace(1982, 2084, 103)\n",
    "times = np.linspace(0, 19, 20)\n",
    "polar_31_pred_mhw_xr = xr.DataArray(polar_31_pred_mhw_np,dims=[\"time\",\"Years\",\"Latitude\", \"Longitude\"],coords={\"time\": times, \"Years\": Years, \"Latitude\": Latitudes, \"Longitude\": Longitudes}, name=\"Mortality\")\n",
    "polar_31_pred_clm_xr = xr.DataArray(polar_31_pred_clm_np,dims=[\"time\",\"Years\",\"Latitude\", \"Longitude\"],coords={\"time\": times, \"Years\": Years, \"Latitude\": Latitudes, \"Longitude\": Longitudes}, name=\"Mortality\")\n",
    "polar_31_pred_nan_xr = xr.DataArray(polar_31_pred_nan_np,dims=[\"time\",\"Years\",\"Latitude\", \"Longitude\"],coords={\"time\": times, \"Years\": Years, \"Latitude\": Latitudes, \"Longitude\": Longitudes}, name=\"Mortality\")\n",
    "polar_42_pred_mhw_xr = xr.DataArray(polar_42_pred_mhw_np,dims=[\"time\",\"Years\",\"Latitude\", \"Longitude\"],coords={\"time\": times, \"Years\": Years, \"Latitude\": Latitudes, \"Longitude\": Longitudes}, name=\"Mortality\")\n",
    "polar_42_pred_clm_xr = xr.DataArray(polar_42_pred_clm_np,dims=[\"time\",\"Years\",\"Latitude\", \"Longitude\"],coords={\"time\": times, \"Years\": Years, \"Latitude\": Latitudes, \"Longitude\": Longitudes}, name=\"Mortality\")\n",
    "polar_42_pred_nan_xr = xr.DataArray(polar_42_pred_nan_np,dims=[\"time\",\"Years\",\"Latitude\", \"Longitude\"],coords={\"time\": times, \"Years\": Years, \"Latitude\": Latitudes, \"Longitude\": Longitudes}, name=\"Mortality\")\n",
    "del polar_31_pred_mhw_np, polar_31_pred_clm_np, polar_31_pred_nan_np, polar_42_pred_mhw_np, polar_42_pred_clm_np, polar_42_pred_nan_np\n",
    "gc.collect()\n",
    "\n",
    "# Create xarray Datasets and save them to netcdf\n",
    "polar_31_pred=xr.Dataset({\"mhw\":polar_31_pred_mhw_xr, \"clm\":polar_31_pred_clm_xr, \"nan\":polar_31_pred_nan_xr})\n",
    "polar_42_pred=xr.Dataset({\"mhw\":polar_42_pred_mhw_xr, \"clm\":polar_42_pred_clm_xr, \"nan\":polar_42_pred_nan_xr})\n",
    "polar_31_pred.to_netcdf(\"polar_31_pred.nc\")\n",
    "polar_42_pred.to_netcdf(\"polar_42_pred.nc\")\n",
    "print(polar_31_pred)\n",
    "\n",
    "all_vars = list(globals().keys())\n",
    "for var in all_vars:\n",
    "    if not var.startswith(\"__\"):  \n",
    "        del globals()[var]\n"
   ]
  }
 ],
 "metadata": {
  "kernelspec": {
   "display_name": "pygdal",
   "language": "python",
   "name": "python3"
  },
  "language_info": {
   "codemirror_mode": {
    "name": "ipython",
    "version": 3
   },
   "file_extension": ".py",
   "mimetype": "text/x-python",
   "name": "python",
   "nbconvert_exporter": "python",
   "pygments_lexer": "ipython3",
   "version": "3.11.11"
  }
 },
 "nbformat": 4,
 "nbformat_minor": 2
}
