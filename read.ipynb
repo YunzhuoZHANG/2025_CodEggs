{
 "cells": [
  {
   "cell_type": "code",
   "execution_count": 1,
   "metadata": {},
   "outputs": [],
   "source": [
    "import h5py\n",
    "import numpy as np\n",
    "import pandas as pd\n",
    "\n",
    "def read_mat_v73(mat_path: str) -> dict:\n",
    "    \"\"\"读取MATLAB v7.3文件 (适配NumPy 1.20+版本)\"\"\"\n",
    "    data = {}\n",
    "    with h5py.File(mat_path, 'r') as f:\n",
    "        def visit_handler(name, obj):\n",
    "            if isinstance(obj, h5py.Dataset):\n",
    "                # 处理对象类型数据集\n",
    "                arr = np.array(obj)\n",
    "                # 类型检查改用安全方式\n",
    "                if arr.dtype == np.dtype('O') or arr.dtype.type is np.object_:\n",
    "                    arr = arr[0]  # 解包MATLAB容器\n",
    "                data[name.split('/')[-1]] = arr\n",
    "        f.visititems(visit_handler)\n",
    "    return data\n",
    "\n",
    "def mat73_to_parquet(mat_path: str, parquet_path: str) -> None:\n",
    "    \"\"\"转换v7.3 MAT文件到Parquet\"\"\"\n",
    "    mat_data = read_mat_v73(mat_path)\n",
    "    \n",
    "    processed = {}\n",
    "    for k, v in mat_data.items():\n",
    "        # 类型检查改用dtype.kind\n",
    "        if v.dtype.kind == 'O':  # 'O' 表示Python对象类型\n",
    "            # 处理MATLAB cell数组\n",
    "            v = np.vectorize(str)(v)  # 更高效的类型转换\n",
    "        elif np.issubdtype(v.dtype, np.complexfloating):\n",
    "            # 复数转为元组结构\n",
    "            v = np.column_stack([v.real, v.imag])\n",
    "        \n",
    "        # Fortran顺序展平\n",
    "        processed[k] = v.flatten(order='F') \n",
    "\n",
    "    # 自动对齐不同长度数组\n",
    "    max_len = max(len(v) for v in processed.values())\n",
    "    df = pd.DataFrame({\n",
    "        k: np.pad(v, (0, max_len - len(v)), mode='empty') \n",
    "        for k, v in processed.items()\n",
    "    })\n",
    "    \n",
    "    # 类型安全保存\n",
    "    df = df.convert_dtypes() \n",
    "    df.to_parquet(parquet_path, engine='pyarrow')\n",
    "\n",
    "# 使用示例\n",
    "mat73_to_parquet(\"atlantic_42.mat\", \"atlantic_42.parquet\")\n",
    "mat73_to_parquet(\"atlantic_31.mat\", \"atlantic_31.parquet\")\n",
    "mat73_to_parquet(\"polar_31.mat\", \"polar_31.parquet\")\n",
    "mat73_to_parquet(\"polar_42.mat\", \"polar_42.parquet\")"
   ]
  },
  {
   "cell_type": "code",
   "execution_count": 3,
   "metadata": {},
   "outputs": [],
   "source": [
    "pc31 = read_mat_v73(\"polar_31.mat\")\n",
    "pc42 = read_mat_v73(\"polar_42.mat\")\n",
    "ac31 = read_mat_v73(\"atlantic_31.mat\")\n",
    "ac42 = read_mat_v73(\"atlantic_42.mat\")\n",
    "Latitudes = np.linspace(60, 90, 120)\n",
    "Longitudes = np.linspace(-180, 180, 1440)\n",
    "Years = np.linspace(1982, 2084, 103)\n",
    "times = np.linspace(0, 19, 20)\n",
    "import xarray as xr\n",
    "pc31_ci = xr.DataArray(pc31['ci'],dims=[\"time\",\"Years\",\"Latitude\", \"Longitude\"],coords={\"time\": times, \"Years\": Years, \"Latitude\": Latitudes, \"Longitude\": Longitudes}, name=\"CI\")\n",
    "pc31_dura_mhw = xr.DataArray(pc31['dura_mhw'],dims=[\"time\",\"Years\",\"Latitude\", \"Longitude\"],coords={\"time\": times, \"Years\": Years, \"Latitude\": Latitudes, \"Longitude\": Longitudes}, name=\"dura_mhw\")\n",
    "pc31_dura_nan = xr.DataArray(pc31['dura_nanmhw'],dims=[\"time\",\"Years\",\"Latitude\", \"Longitude\"],coords={\"time\": times, \"Years\": Years, \"Latitude\": Latitudes, \"Longitude\": Longitudes}, name=\"dura_nan\")\n",
    "pc31_mtp_mhw = xr.DataArray(pc31['mtp_mhw'],dims=[\"time\",\"Years\",\"Latitude\", \"Longitude\"],coords={\"time\": times, \"Years\": Years, \"Latitude\": Latitudes, \"Longitude\": Longitudes}, name=\"mtp_mhw\")\n",
    "pc31_mtp_nan = xr.DataArray(pc31['mtp_nanmhw'],dims=[\"time\",\"Years\",\"Latitude\", \"Longitude\"],coords={\"time\": times, \"Years\": Years, \"Latitude\": Latitudes, \"Longitude\": Longitudes}, name=\"mtp_nan\")\n",
    "pc42_ci = xr.DataArray(pc42['ci'],dims=[\"time\",\"Years\",\"Latitude\", \"Longitude\"],coords={\"time\": times, \"Years\": Years, \"Latitude\": Latitudes, \"Longitude\": Longitudes}, name=\"CI\")\n",
    "pc42_dura_mhw = xr.DataArray(pc42['dura_mhw'],dims=[\"time\",\"Years\",\"Latitude\", \"Longitude\"],coords={\"time\": times, \"Years\": Years, \"Latitude\": Latitudes, \"Longitude\": Longitudes}, name=\"dura_mhw\")\n",
    "pc42_dura_nan = xr.DataArray(pc42['dura_nanmhw'],dims=[\"time\",\"Years\",\"Latitude\", \"Longitude\"],coords={\"time\": times, \"Years\": Years, \"Latitude\": Latitudes, \"Longitude\": Longitudes}, name=\"dura_nan\")\n",
    "pc42_mtp_mhw = xr.DataArray(pc42['mtp_mhw'],dims=[\"time\",\"Years\",\"Latitude\", \"Longitude\"],coords={\"time\": times, \"Years\": Years, \"Latitude\": Latitudes, \"Longitude\": Longitudes}, name=\"mtp_mhw\")\n",
    "pc42_mtp_nan = xr.DataArray(pc42['mtp_nanmhw'],dims=[\"time\",\"Years\",\"Latitude\", \"Longitude\"],coords={\"time\": times, \"Years\": Years, \"Latitude\": Latitudes, \"Longitude\": Longitudes}, name=\"mtp_nan\")\n",
    "# Years = np.linspace(1982, 2085, 104)\n",
    "# ac31_ci = xr.DataArray(ac31['ci'],dims=[\"time\",\"Years\",\"Latitude\", \"Longitude\"],coords={\"time\": times, \"Years\": Years, \"Latitude\": Latitudes, \"Longitude\": Longitudes}, name=\"CI\")\n",
    "# ac31_dura = xr.DataArray(ac31['dura_mhw'],dims=[\"time\",\"Years\",\"Latitude\", \"Longitude\"],coords={\"time\": times, \"Years\": Years, \"Latitude\": Latitudes, \"Longitude\": Longitudes}, name=\"dura\")\n",
    "# ac31_mtp_mhw = xr.DataArray(ac31['mtp_mhw'],dims=[\"time\",\"Years\",\"Latitude\", \"Longitude\"],coords={\"time\": times, \"Years\": Years, \"Latitude\": Latitudes, \"Longitude\": Longitudes}, name=\"mtp_mhw\")\n",
    "# ac31_mtp_nan = xr.DataArray(ac31['mtp_nanmhw'],dims=[\"time\",\"Years\",\"Latitude\", \"Longitude\"],coords={\"time\": times, \"Years\": Years, \"Latitude\": Latitudes, \"Longitude\": Longitudes}, name=\"mtp_clm\")\n",
    "# ac42_ci = xr.DataArray(ac42['ci'],dims=[\"time\",\"Years\",\"Latitude\", \"Longitude\"],coords={\"time\": times, \"Years\": Years, \"Latitude\": Latitudes, \"Longitude\": Longitudes}, name=\"CI\")\n",
    "# ac42_dura = xr.DataArray(ac42['dura_mhw'],dims=[\"time\",\"Years\",\"Latitude\", \"Longitude\"],coords={\"time\": times, \"Years\": Years, \"Latitude\": Latitudes, \"Longitude\": Longitudes}, name=\"dura\")\n",
    "# ac42_mtp_mhw = xr.DataArray(ac42['mtp_mhw'],dims=[\"time\",\"Years\",\"Latitude\", \"Longitude\"],coords={\"time\": times, \"Years\": Years, \"Latitude\": Latitudes, \"Longitude\": Longitudes}, name=\"mtp_mhw\")\n",
    "# ac42_mtp_nan = xr.DataArray(ac42['mtp_nanmhw'],dims=[\"time\",\"Years\",\"Latitude\", \"Longitude\"],coords={\"time\": times, \"Years\": Years, \"Latitude\": Latitudes, \"Longitude\": Longitudes}, name=\"mtp_clm\")\n",
    "\n",
    "\n",
    "pc31bg=xr.Dataset({\"CI\":pc31_ci, \"dura_mhw\":pc31_dura_mhw, \"dura_nan\":pc31_dura_nan, \"mtp_mhw\":pc31_mtp_mhw, \"mtp_nan\":pc31_mtp_nan})\n",
    "pc42bg=xr.Dataset({\"CI\":pc42_ci, \"dura_mhw\":pc42_dura_mhw, \"dura_nan\":pc42_dura_nan, \"mtp_mhw\":pc42_mtp_mhw, \"mtp_nan\":pc42_mtp_nan})\n",
    "# ac31bg=xr.Dataset({\"CI\":ac31_ci, \"dura\":ac31_dura, \"mtp_mhw\":ac31_mtp_mhw, \"mtp_nan\":ac31_mtp_nan})\n",
    "# ac42bg=xr.Dataset({\"CI\":ac42_ci, \"dura\":ac42_dura, \"mtp_mhw\":ac42_mtp_mhw, \"mtp_nan\":ac42_mtp_nan})\n",
    "\n",
    "pc31bg.to_netcdf(\"pc31bg.nc\")\n",
    "pc42bg.to_netcdf(\"pc42bg.nc\")\n",
    "# ac31bg.to_netcdf(\"ac31bg.nc\")\n",
    "# ac42bg.to_netcdf(\"ac42bg.nc\")"
   ]
  },
  {
   "cell_type": "code",
   "execution_count": null,
   "metadata": {},
   "outputs": [],
   "source": []
  },
  {
   "cell_type": "code",
   "execution_count": null,
   "metadata": {},
   "outputs": [],
   "source": []
  },
  {
   "cell_type": "code",
   "execution_count": null,
   "metadata": {},
   "outputs": [],
   "source": []
  },
  {
   "cell_type": "code",
   "execution_count": 5,
   "metadata": {},
   "outputs": [
    {
     "name": "stdout",
     "output_type": "stream",
     "text": [
      "Shape: (355968000, 8)\n",
      "\n",
      "Columns: ['ci', 'dura_mhw', 'dura_nanmhw', 'lat', 'lon', 'mtp_climate', 'mtp_mhw', 'mtp_nanmhw']\n",
      "\n",
      "Data types:\n",
      "ci             Float64\n",
      "dura_mhw         Int64\n",
      "dura_nanmhw      Int64\n",
      "lat            Float64\n",
      "lon            Float64\n",
      "mtp_climate    Float64\n",
      "mtp_mhw        Float64\n",
      "mtp_nanmhw     Float64\n",
      "dtype: object\n",
      "\n",
      "First 5 rows:\n"
     ]
    },
    {
     "data": {
      "application/vnd.microsoft.datawrangler.viewer.v0+json": {
       "columns": [
        {
         "name": "index",
         "rawType": "int64",
         "type": "integer"
        },
        {
         "name": "ci",
         "rawType": "Float64",
         "type": "float"
        },
        {
         "name": "dura_mhw",
         "rawType": "Int64",
         "type": "integer"
        },
        {
         "name": "dura_nanmhw",
         "rawType": "Int64",
         "type": "integer"
        },
        {
         "name": "lat",
         "rawType": "Float64",
         "type": "float"
        },
        {
         "name": "lon",
         "rawType": "Float64",
         "type": "float"
        },
        {
         "name": "mtp_climate",
         "rawType": "Float64",
         "type": "float"
        },
        {
         "name": "mtp_mhw",
         "rawType": "Float64",
         "type": "float"
        },
        {
         "name": "mtp_nanmhw",
         "rawType": "Float64",
         "type": "float"
        }
       ],
       "conversionMethod": "pd.DataFrame",
       "ref": "b29d43f8-1e68-426e-9b72-66ff529ded1d",
       "rows": [
        [
         "0",
         null,
         null,
         "121",
         "60.0",
         "-180.0",
         null,
         null,
         "1.2070019248226458"
        ],
        [
         "1",
         null,
         null,
         null,
         "60.252100840336134",
         "-179.74982626824183",
         null,
         null,
         null
        ],
        [
         "2",
         null,
         null,
         null,
         "60.50420168067227",
         "-179.49965253648367",
         null,
         null,
         null
        ],
        [
         "3",
         null,
         null,
         null,
         "60.7563025210084",
         "-179.2494788047255",
         null,
         null,
         null
        ],
        [
         "4",
         null,
         null,
         null,
         "61.008403361344534",
         "-178.99930507296733",
         null,
         null,
         null
        ]
       ],
       "shape": {
        "columns": 8,
        "rows": 5
       }
      },
      "text/html": [
       "<div>\n",
       "<style scoped>\n",
       "    .dataframe tbody tr th:only-of-type {\n",
       "        vertical-align: middle;\n",
       "    }\n",
       "\n",
       "    .dataframe tbody tr th {\n",
       "        vertical-align: top;\n",
       "    }\n",
       "\n",
       "    .dataframe thead th {\n",
       "        text-align: right;\n",
       "    }\n",
       "</style>\n",
       "<table border=\"1\" class=\"dataframe\">\n",
       "  <thead>\n",
       "    <tr style=\"text-align: right;\">\n",
       "      <th></th>\n",
       "      <th>ci</th>\n",
       "      <th>dura_mhw</th>\n",
       "      <th>dura_nanmhw</th>\n",
       "      <th>lat</th>\n",
       "      <th>lon</th>\n",
       "      <th>mtp_climate</th>\n",
       "      <th>mtp_mhw</th>\n",
       "      <th>mtp_nanmhw</th>\n",
       "    </tr>\n",
       "  </thead>\n",
       "  <tbody>\n",
       "    <tr>\n",
       "      <th>0</th>\n",
       "      <td>&lt;NA&gt;</td>\n",
       "      <td>&lt;NA&gt;</td>\n",
       "      <td>121</td>\n",
       "      <td>60.0</td>\n",
       "      <td>-180.0</td>\n",
       "      <td>&lt;NA&gt;</td>\n",
       "      <td>&lt;NA&gt;</td>\n",
       "      <td>1.207002</td>\n",
       "    </tr>\n",
       "    <tr>\n",
       "      <th>1</th>\n",
       "      <td>&lt;NA&gt;</td>\n",
       "      <td>&lt;NA&gt;</td>\n",
       "      <td>&lt;NA&gt;</td>\n",
       "      <td>60.252101</td>\n",
       "      <td>-179.749826</td>\n",
       "      <td>&lt;NA&gt;</td>\n",
       "      <td>&lt;NA&gt;</td>\n",
       "      <td>&lt;NA&gt;</td>\n",
       "    </tr>\n",
       "    <tr>\n",
       "      <th>2</th>\n",
       "      <td>&lt;NA&gt;</td>\n",
       "      <td>&lt;NA&gt;</td>\n",
       "      <td>&lt;NA&gt;</td>\n",
       "      <td>60.504202</td>\n",
       "      <td>-179.499653</td>\n",
       "      <td>&lt;NA&gt;</td>\n",
       "      <td>&lt;NA&gt;</td>\n",
       "      <td>&lt;NA&gt;</td>\n",
       "    </tr>\n",
       "    <tr>\n",
       "      <th>3</th>\n",
       "      <td>&lt;NA&gt;</td>\n",
       "      <td>&lt;NA&gt;</td>\n",
       "      <td>&lt;NA&gt;</td>\n",
       "      <td>60.756303</td>\n",
       "      <td>-179.249479</td>\n",
       "      <td>&lt;NA&gt;</td>\n",
       "      <td>&lt;NA&gt;</td>\n",
       "      <td>&lt;NA&gt;</td>\n",
       "    </tr>\n",
       "    <tr>\n",
       "      <th>4</th>\n",
       "      <td>&lt;NA&gt;</td>\n",
       "      <td>&lt;NA&gt;</td>\n",
       "      <td>&lt;NA&gt;</td>\n",
       "      <td>61.008403</td>\n",
       "      <td>-178.999305</td>\n",
       "      <td>&lt;NA&gt;</td>\n",
       "      <td>&lt;NA&gt;</td>\n",
       "      <td>&lt;NA&gt;</td>\n",
       "    </tr>\n",
       "  </tbody>\n",
       "</table>\n",
       "</div>"
      ],
      "text/plain": [
       "     ci  dura_mhw  dura_nanmhw        lat         lon  mtp_climate  mtp_mhw  \\\n",
       "0  <NA>      <NA>          121       60.0      -180.0         <NA>     <NA>   \n",
       "1  <NA>      <NA>         <NA>  60.252101 -179.749826         <NA>     <NA>   \n",
       "2  <NA>      <NA>         <NA>  60.504202 -179.499653         <NA>     <NA>   \n",
       "3  <NA>      <NA>         <NA>  60.756303 -179.249479         <NA>     <NA>   \n",
       "4  <NA>      <NA>         <NA>  61.008403 -178.999305         <NA>     <NA>   \n",
       "\n",
       "   mtp_nanmhw  \n",
       "0    1.207002  \n",
       "1        <NA>  \n",
       "2        <NA>  \n",
       "3        <NA>  \n",
       "4        <NA>  "
      ]
     },
     "metadata": {},
     "output_type": "display_data"
    },
    {
     "name": "stdout",
     "output_type": "stream",
     "text": [
      "\n",
      "Summary of non-NaN values per column:\n"
     ]
    },
    {
     "data": {
      "application/vnd.microsoft.datawrangler.viewer.v0+json": {
       "columns": [
        {
         "name": "index",
         "rawType": "int64",
         "type": "integer"
        },
        {
         "name": "Column",
         "rawType": "object",
         "type": "string"
        },
        {
         "name": "Non-NaN Count",
         "rawType": "int64",
         "type": "integer"
        },
        {
         "name": "Percentage (%)",
         "rawType": "float64",
         "type": "float"
        }
       ],
       "conversionMethod": "pd.DataFrame",
       "ref": "e4cbae40-ffa6-4a7b-8a60-b9396327dd91",
       "rows": [
        [
         "3",
         "lat",
         "355968000",
         "100.0"
        ],
        [
         "4",
         "lon",
         "355968000",
         "100.0"
        ],
        [
         "7",
         "mtp_nanmhw",
         "14431477",
         "4.05415"
        ],
        [
         "2",
         "dura_nanmhw",
         "14431477",
         "4.05415"
        ],
        [
         "0",
         "ci",
         "1518959",
         "0.426712"
        ],
        [
         "1",
         "dura_mhw",
         "1518959",
         "0.426712"
        ],
        [
         "5",
         "mtp_climate",
         "1518959",
         "0.426712"
        ],
        [
         "6",
         "mtp_mhw",
         "1518959",
         "0.426712"
        ]
       ],
       "shape": {
        "columns": 3,
        "rows": 8
       }
      },
      "text/html": [
       "<div>\n",
       "<style scoped>\n",
       "    .dataframe tbody tr th:only-of-type {\n",
       "        vertical-align: middle;\n",
       "    }\n",
       "\n",
       "    .dataframe tbody tr th {\n",
       "        vertical-align: top;\n",
       "    }\n",
       "\n",
       "    .dataframe thead th {\n",
       "        text-align: right;\n",
       "    }\n",
       "</style>\n",
       "<table border=\"1\" class=\"dataframe\">\n",
       "  <thead>\n",
       "    <tr style=\"text-align: right;\">\n",
       "      <th></th>\n",
       "      <th>Column</th>\n",
       "      <th>Non-NaN Count</th>\n",
       "      <th>Percentage (%)</th>\n",
       "    </tr>\n",
       "  </thead>\n",
       "  <tbody>\n",
       "    <tr>\n",
       "      <th>3</th>\n",
       "      <td>lat</td>\n",
       "      <td>355968000</td>\n",
       "      <td>100.000000</td>\n",
       "    </tr>\n",
       "    <tr>\n",
       "      <th>4</th>\n",
       "      <td>lon</td>\n",
       "      <td>355968000</td>\n",
       "      <td>100.000000</td>\n",
       "    </tr>\n",
       "    <tr>\n",
       "      <th>7</th>\n",
       "      <td>mtp_nanmhw</td>\n",
       "      <td>14431477</td>\n",
       "      <td>4.054150</td>\n",
       "    </tr>\n",
       "    <tr>\n",
       "      <th>2</th>\n",
       "      <td>dura_nanmhw</td>\n",
       "      <td>14431477</td>\n",
       "      <td>4.054150</td>\n",
       "    </tr>\n",
       "    <tr>\n",
       "      <th>0</th>\n",
       "      <td>ci</td>\n",
       "      <td>1518959</td>\n",
       "      <td>0.426712</td>\n",
       "    </tr>\n",
       "    <tr>\n",
       "      <th>1</th>\n",
       "      <td>dura_mhw</td>\n",
       "      <td>1518959</td>\n",
       "      <td>0.426712</td>\n",
       "    </tr>\n",
       "    <tr>\n",
       "      <th>5</th>\n",
       "      <td>mtp_climate</td>\n",
       "      <td>1518959</td>\n",
       "      <td>0.426712</td>\n",
       "    </tr>\n",
       "    <tr>\n",
       "      <th>6</th>\n",
       "      <td>mtp_mhw</td>\n",
       "      <td>1518959</td>\n",
       "      <td>0.426712</td>\n",
       "    </tr>\n",
       "  </tbody>\n",
       "</table>\n",
       "</div>"
      ],
      "text/plain": [
       "        Column  Non-NaN Count  Percentage (%)\n",
       "3          lat      355968000      100.000000\n",
       "4          lon      355968000      100.000000\n",
       "7   mtp_nanmhw       14431477        4.054150\n",
       "2  dura_nanmhw       14431477        4.054150\n",
       "0           ci        1518959        0.426712\n",
       "1     dura_mhw        1518959        0.426712\n",
       "5  mtp_climate        1518959        0.426712\n",
       "6      mtp_mhw        1518959        0.426712"
      ]
     },
     "metadata": {},
     "output_type": "display_data"
    },
    {
     "data": {
      "image/png": "[encoded data removed]",
      "text/plain": [
       "<Figure size 1200x600 with 1 Axes>"
      ]
     },
     "metadata": {},
     "output_type": "display_data"
    }
   ],
   "source": [
    "import pandas as pd\n",
    "# Read the polar_31_pred.parquet file\n",
    "polar_31_pred = pd.read_parquet(\"polar_31.parquet\")\n",
    "\n",
    "# Display basic information about the DataFrame\n",
    "print(f\"Shape: {polar_31_pred.shape}\")\n",
    "print(\"\\nColumns:\", polar_31_pred.columns.tolist())\n",
    "print(\"\\nData types:\")\n",
    "print(polar_31_pred.dtypes)\n",
    "\n",
    "# Display the first few rows to see the data structure\n",
    "print(\"\\nFirst 5 rows:\")\n",
    "display(polar_31_pred.head())\n",
    "# Calculate the count of non-NaN values for each column\n",
    "non_nan_counts = polar_31_pred.count()\n",
    "\n",
    "# Calculate percentage of non-NaN values\n",
    "total_rows = len(polar_31_pred)\n",
    "non_nan_percentages = (non_nan_counts / total_rows * 100).round(6)\n",
    "\n",
    "# Create a summary DataFrame\n",
    "summary_df = pd.DataFrame({\n",
    "    'Column': non_nan_counts.index,\n",
    "    'Non-NaN Count': non_nan_counts.values,\n",
    "    'Percentage (%)': non_nan_percentages.values\n",
    "})\n",
    "\n",
    "# Display the summary\n",
    "print(\"\\nSummary of non-NaN values per column:\")\n",
    "display(summary_df.sort_values('Non-NaN Count', ascending=False))\n",
    "\n",
    "# Visualize the distribution of non-NaN values\n",
    "import matplotlib.pyplot as plt\n",
    "plt.figure(figsize=(12, 6))\n",
    "bars = plt.bar(summary_df['Column'], summary_df['Non-NaN Count'])\n",
    "plt.xticks(rotation=45, ha='right')\n",
    "plt.title('Number of Non-NaN Values by Column')\n",
    "plt.xlabel('Column')\n",
    "plt.ylabel('Non-NaN Count')\n",
    "plt.tight_layout()\n",
    "\n",
    "# Add count labels on top of the bars\n",
    "for bar in bars:\n",
    "    height = bar.get_height()\n",
    "    plt.text(bar.get_x() + bar.get_width()/2., height + 0.05*max(summary_df['Non-NaN Count']),\n",
    "             f'{int(height):,}', ha='center', va='bottom', rotation=0)\n",
    "\n",
    "plt.show()"
   ]
  }
 ],
 "metadata": {
  "kernelspec": {
   "display_name": "pygdal",
   "language": "python",
   "name": "python3"
  },
  "language_info": {
   "codemirror_mode": {
    "name": "ipython",
    "version": 3
   },
   "file_extension": ".py",
   "mimetype": "text/x-python",
   "name": "python",
   "nbconvert_exporter": "python",
   "pygments_lexer": "ipython3",
   "version": "3.11.11"
  }
 },
 "nbformat": 4,
 "nbformat_minor": 2
}
