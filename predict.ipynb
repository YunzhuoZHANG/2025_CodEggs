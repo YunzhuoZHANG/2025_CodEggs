{
 "cells": [
  {
   "cell_type": "code",
   "execution_count": null,
   "metadata": {
    "vscode": {
     "languageId": "r"
    }
   },
   "outputs": [],
   "source": [
    "\n"
   ]
  },
  {
   "cell_type": "code",
   "execution_count": 1,
   "metadata": {
    "vscode": {
     "languageId": "r"
    }
   },
   "outputs": [
    {
     "name": "stderr",
     "output_type": "stream",
     "text": [
      "\n",
      "Attaching package: ‘arrow’\n",
      "\n",
      "\n",
      "The following object is masked from ‘package:utils’:\n",
      "\n",
      "    timestamp\n",
      "\n",
      "\n",
      "Warning message:\n",
      "“package ‘nlme’ was built under R version 4.3.3”\n",
      "Warning message:\n",
      "“package ‘mgcv’ was built under R version 4.3.3”\n",
      "This is mgcv 1.9-1. For overview type 'help(\"mgcv-package\")'.\n",
      "\n"
     ]
    },
    {
     "data": {
      "text/html": [
       "<table class=\"dataframe\">\n",
       "<caption>A matrix: 2 × 6 of type dbl</caption>\n",
       "<thead>\n",
       "\t<tr><th></th><th scope=col>used</th><th scope=col>(Mb)</th><th scope=col>gc trigger</th><th scope=col>(Mb)</th><th scope=col>max used</th><th scope=col>(Mb)</th></tr>\n",
       "</thead>\n",
       "<tbody>\n",
       "\t<tr><th scope=row>Ncells</th><td>  2051783</td><td> 109.6</td><td> 821208964</td><td>43857.3</td><td> 371490285</td><td>19839.8</td></tr>\n",
       "\t<tr><th scope=row>Vcells</th><td>631387042</td><td>4817.2</td><td>4447110688</td><td>33928.8</td><td>5533095486</td><td>42214.2</td></tr>\n",
       "</tbody>\n",
       "</table>\n"
      ],
      "text/latex": [
       "A matrix: 2 × 6 of type dbl\n",
       "\\begin{tabular}{r|llllll}\n",
       "  & used & (Mb) & gc trigger & (Mb) & max used & (Mb)\\\\\n",
       "\\hline\n",
       "\tNcells &   2051783 &  109.6 &  821208964 & 43857.3 &  371490285 & 19839.8\\\\\n",
       "\tVcells & 631387042 & 4817.2 & 4447110688 & 33928.8 & 5533095486 & 42214.2\\\\\n",
       "\\end{tabular}\n"
      ],
      "text/markdown": [
       "\n",
       "A matrix: 2 × 6 of type dbl\n",
       "\n",
       "| <!--/--> | used | (Mb) | gc trigger | (Mb) | max used | (Mb) |\n",
       "|---|---|---|---|---|---|---|\n",
       "| Ncells |   2051783 |  109.6 |  821208964 | 43857.3 |  371490285 | 19839.8 |\n",
       "| Vcells | 631387042 | 4817.2 | 4447110688 | 33928.8 | 5533095486 | 42214.2 |\n",
       "\n"
      ],
      "text/plain": [
       "       used      (Mb)   gc trigger (Mb)    max used   (Mb)   \n",
       "Ncells   2051783  109.6  821208964 43857.3  371490285 19839.8\n",
       "Vcells 631387042 4817.2 4447110688 33928.8 5533095486 42214.2"
      ]
     },
     "metadata": {},
     "output_type": "display_data"
    },
    {
     "data": {
      "text/html": [
       "<table class=\"dataframe\">\n",
       "<caption>A matrix: 2 × 6 of type dbl</caption>\n",
       "<thead>\n",
       "\t<tr><th></th><th scope=col>used</th><th scope=col>(Mb)</th><th scope=col>gc trigger</th><th scope=col>(Mb)</th><th scope=col>max used</th><th scope=col>(Mb)</th></tr>\n",
       "</thead>\n",
       "<tbody>\n",
       "\t<tr><th scope=row>Ncells</th><td>  2060018</td><td> 110.1</td><td> 656967172</td><td>35085.9</td><td> 384267993</td><td>20522.2</td></tr>\n",
       "\t<tr><th scope=row>Vcells</th><td>631404671</td><td>4817.3</td><td>4671092460</td><td>35637.7</td><td>5838865574</td><td>44547.1</td></tr>\n",
       "</tbody>\n",
       "</table>\n"
      ],
      "text/latex": [
       "A matrix: 2 × 6 of type dbl\n",
       "\\begin{tabular}{r|llllll}\n",
       "  & used & (Mb) & gc trigger & (Mb) & max used & (Mb)\\\\\n",
       "\\hline\n",
       "\tNcells &   2060018 &  110.1 &  656967172 & 35085.9 &  384267993 & 20522.2\\\\\n",
       "\tVcells & 631404671 & 4817.3 & 4671092460 & 35637.7 & 5838865574 & 44547.1\\\\\n",
       "\\end{tabular}\n"
      ],
      "text/markdown": [
       "\n",
       "A matrix: 2 × 6 of type dbl\n",
       "\n",
       "| <!--/--> | used | (Mb) | gc trigger | (Mb) | max used | (Mb) |\n",
       "|---|---|---|---|---|---|---|\n",
       "| Ncells |   2060018 |  110.1 |  656967172 | 35085.9 |  384267993 | 20522.2 |\n",
       "| Vcells | 631404671 | 4817.3 | 4671092460 | 35637.7 | 5838865574 | 44547.1 |\n",
       "\n"
      ],
      "text/plain": [
       "       used      (Mb)   gc trigger (Mb)    max used   (Mb)   \n",
       "Ncells   2060018  110.1  656967172 35085.9  384267993 20522.2\n",
       "Vcells 631404671 4817.3 4671092460 35637.7 5838865574 44547.1"
      ]
     },
     "metadata": {},
     "output_type": "display_data"
    },
    {
     "data": {
      "text/html": [
       "<table class=\"dataframe\">\n",
       "<caption>A matrix: 2 × 6 of type dbl</caption>\n",
       "<thead>\n",
       "\t<tr><th></th><th scope=col>used</th><th scope=col>(Mb)</th><th scope=col>gc trigger</th><th scope=col>(Mb)</th><th scope=col>max used</th><th scope=col>(Mb)</th></tr>\n",
       "</thead>\n",
       "<tbody>\n",
       "\t<tr><th scope=row>Ncells</th><td>  2060099</td><td> 110.1</td><td> 525573738</td><td>28068.7</td><td> 384267993</td><td>20522.2</td></tr>\n",
       "\t<tr><th scope=row>Vcells</th><td>627948745</td><td>4790.9</td><td>4870196264</td><td>37156.7</td><td>5969539885</td><td>45544.0</td></tr>\n",
       "</tbody>\n",
       "</table>\n"
      ],
      "text/latex": [
       "A matrix: 2 × 6 of type dbl\n",
       "\\begin{tabular}{r|llllll}\n",
       "  & used & (Mb) & gc trigger & (Mb) & max used & (Mb)\\\\\n",
       "\\hline\n",
       "\tNcells &   2060099 &  110.1 &  525573738 & 28068.7 &  384267993 & 20522.2\\\\\n",
       "\tVcells & 627948745 & 4790.9 & 4870196264 & 37156.7 & 5969539885 & 45544.0\\\\\n",
       "\\end{tabular}\n"
      ],
      "text/markdown": [
       "\n",
       "A matrix: 2 × 6 of type dbl\n",
       "\n",
       "| <!--/--> | used | (Mb) | gc trigger | (Mb) | max used | (Mb) |\n",
       "|---|---|---|---|---|---|---|\n",
       "| Ncells |   2060099 |  110.1 |  525573738 | 28068.7 |  384267993 | 20522.2 |\n",
       "| Vcells | 627948745 | 4790.9 | 4870196264 | 37156.7 | 5969539885 | 45544.0 |\n",
       "\n"
      ],
      "text/plain": [
       "       used      (Mb)   gc trigger (Mb)    max used   (Mb)   \n",
       "Ncells   2060099  110.1  525573738 28068.7  384267993 20522.2\n",
       "Vcells 627948745 4790.9 4870196264 37156.7 5969539885 45544.0"
      ]
     },
     "metadata": {},
     "output_type": "display_data"
    },
    {
     "data": {
      "text/html": [
       "<table class=\"dataframe\">\n",
       "<caption>A matrix: 2 × 6 of type dbl</caption>\n",
       "<thead>\n",
       "\t<tr><th></th><th scope=col>used</th><th scope=col>(Mb)</th><th scope=col>gc trigger</th><th scope=col>(Mb)</th><th scope=col>max used</th><th scope=col>(Mb)</th></tr>\n",
       "</thead>\n",
       "<tbody>\n",
       "\t<tr><th scope=row>Ncells</th><td>  2060183</td><td> 110.1</td><td> 420458991</td><td>22455.0</td><td> 387998956</td><td>20721.4</td></tr>\n",
       "\t<tr><th scope=row>Vcells</th><td>627948818</td><td>4790.9</td><td>4704114920</td><td>35889.6</td><td>5969539885</td><td>45544.0</td></tr>\n",
       "</tbody>\n",
       "</table>\n"
      ],
      "text/latex": [
       "A matrix: 2 × 6 of type dbl\n",
       "\\begin{tabular}{r|llllll}\n",
       "  & used & (Mb) & gc trigger & (Mb) & max used & (Mb)\\\\\n",
       "\\hline\n",
       "\tNcells &   2060183 &  110.1 &  420458991 & 22455.0 &  387998956 & 20721.4\\\\\n",
       "\tVcells & 627948818 & 4790.9 & 4704114920 & 35889.6 & 5969539885 & 45544.0\\\\\n",
       "\\end{tabular}\n"
      ],
      "text/markdown": [
       "\n",
       "A matrix: 2 × 6 of type dbl\n",
       "\n",
       "| <!--/--> | used | (Mb) | gc trigger | (Mb) | max used | (Mb) |\n",
       "|---|---|---|---|---|---|---|\n",
       "| Ncells |   2060183 |  110.1 |  420458991 | 22455.0 |  387998956 | 20721.4 |\n",
       "| Vcells | 627948818 | 4790.9 | 4704114920 | 35889.6 | 5969539885 | 45544.0 |\n",
       "\n"
      ],
      "text/plain": [
       "       used      (Mb)   gc trigger (Mb)    max used   (Mb)   \n",
       "Ncells   2060183  110.1  420458991 22455.0  387998956 20721.4\n",
       "Vcells 627948818 4790.9 4704114920 35889.6 5969539885 45544.0"
      ]
     },
     "metadata": {},
     "output_type": "display_data"
    }
   ],
   "source": [
    "library(arrow)\n",
    "library(nlme)\n",
    "library(mgcv)\n",
    "load(\"model_atlantic.rda\")\n",
    "atlantic_31 <- read_parquet(\"atlantic_31.parquet\")\n",
    "# atlantic_31 mhw \n",
    "newdata <- data.frame(Temperature=atlantic_31$mtp_mhw, Duration=atlantic_31$dura_mhw)\n",
    "pred_a31_mhw <- predict.gam(model_atl$gam, newdata=newdata, type=\"response\")\n",
    "\n",
    "# atlantic_31 climatology\n",
    "newdata <- data.frame(Temperature=atlantic_31$mtp_climate, Duration=atlantic_31$dura_mhw)\n",
    "pred_a31_clim <- predict.gam(model_atl$gam, newdata=newdata, type=\"response\")\n",
    "# atlantic_31 no mhw\n",
    "newdata <- data.frame(Temperature=atlantic_31$mtp_nanmhw, Duration=atlantic_31$dura_mhw)\n",
    "pred_a31_no_mhw <- predict.gam(model_atl$gam, newdata=newdata, type=\"response\")\n",
    "\n",
    "# save the predictions\n",
    "atlantic_31$pred_mhw <- pred_a31_mhw\n",
    "atlantic_31$pred_clim <- pred_a31_clim\n",
    "atlantic_31$pred_no_mhw <- pred_a31_no_mhw\n",
    "write_parquet(atlantic_31, \"atlantic_31_pred.parquet\")\n",
    "rm(list = ls())\n",
    "gc()\n",
    "\n",
    "load(\"model_atlantic.rda\")\n",
    "atlantic_42 <- read_parquet(\"atlantic_42.parquet\")\n",
    "# atlantic_42 mhw\n",
    "newdata <- data.frame(Temperature=atlantic_42$mtp_mhw, Duration=atlantic_42$dura_mhw)\n",
    "pred_a42_mhw <- predict.gam(model_atl$gam, newdata=newdata, type=\"response\")\n",
    "# atlantic_42 climatology\n",
    "newdata <- data.frame(Temperature=atlantic_42$mtp_climate, Duration=atlantic_42$dura_mhw)\n",
    "pred_a42_clim <- predict.gam(model_atl$gam, newdata=newdata, type=\"response\")\n",
    "# atlantic_42 no mhw\n",
    "newdata <- data.frame(Temperature=atlantic_42$mtp_nanmhw, Duration=atlantic_42$dura_mhw)\n",
    "pred_a42_no_mhw <- predict.gam(model_atl$gam, newdata=newdata, type=\"response\")\n",
    "atlantic_42$pred_mhw <- pred_a42_mhw\n",
    "atlantic_42$pred_clim <- pred_a42_clim\n",
    "atlantic_42$pred_no_mhw <- pred_a42_no_mhw\n",
    "write_parquet(atlantic_42, \"atlantic_42_pred.parquet\")\n",
    "rm(list = ls())\n",
    "gc()\n",
    "\n",
    "load(\"model_polar.rda\")\n",
    "polar_31 <- read_parquet(\"polar_31.parquet\")\n",
    "# polar_31 mhw\n",
    "newdata <- data.frame(Temperature=polar_31$mtp_mhw, Duration=polar_31$dura_mhw)\n",
    "pred_p31_mhw <- predict.gam(model_pol$gam, newdata=newdata, type=\"response\")\n",
    "# polar_31 climatology\n",
    "newdata <- data.frame(Temperature=polar_31$mtp_climate, Duration=polar_31$dura_mhw)\n",
    "pred_p31_clim <- predict.gam(model_pol$gam, newdata=newdata, type=\"response\")\n",
    "# polar_31 no mhw       \n",
    "newdata <- data.frame(Temperature=polar_31$mtp_nanmhw, Duration=polar_31$dura_mhw)\n",
    "pred_p31_no_mhw <- predict.gam(model_pol$gam, newdata=newdata, type=\"response\")\n",
    "\n",
    "polar_31$pred_mhw <- pred_p31_mhw\n",
    "polar_31$pred_clim <- pred_p31_clim\n",
    "polar_31$pred_no_mhw <- pred_p31_no_mhw\n",
    "write_parquet(polar_31, \"polar_31_pred.parquet\")\n",
    "rm(list = ls())\n",
    "gc()\n",
    "\n",
    "load(\"model_polar.rda\")\n",
    "polar_42 <- read_parquet(\"polar_42.parquet\")\n",
    "# polar_42 mhw\n",
    "newdata <- data.frame(Temperature=polar_42$mtp_mhw, Duration=polar_42$dura_mhw)\n",
    "pred_p42_mhw <- predict.gam(model_pol$gam, newdata=newdata, type=\"response\")\n",
    "# polar_42 climatology\n",
    "newdata <- data.frame(Temperature=polar_42$mtp_climate, Duration=polar_42$dura_mhw)\n",
    "pred_p42_clim <- predict.gam(model_pol$gam, newdata=newdata, type=\"response\")\n",
    "# polar_42 no mhw\n",
    "newdata <- data.frame(Temperature=polar_42$mtp_nanmhw, Duration=polar_42$dura_mhw)\n",
    "pred_p42_no_mhw <- predict.gam(model_pol$gam, newdata=newdata, type=\"response\")\n",
    "\n",
    "polar_42$pred_mhw <- pred_p42_mhw\n",
    "polar_42$pred_clim <- pred_p42_clim\n",
    "polar_42$pred_no_mhw <- pred_p42_no_mhw\n",
    "\n",
    "write_parquet(polar_42, \"polar_42_pred.parquet\")\n",
    "rm(list = ls())\n",
    "gc()"
   ]
  }
 ],
 "metadata": {
  "kernelspec": {
   "display_name": "R",
   "language": "R",
   "name": "ir"
  },
  "language_info": {
   "codemirror_mode": "r",
   "file_extension": ".r",
   "mimetype": "text/x-r-source",
   "name": "R",
   "pygments_lexer": "r",
   "version": "4.3.1"
  }
 },
 "nbformat": 4,
 "nbformat_minor": 2
}
